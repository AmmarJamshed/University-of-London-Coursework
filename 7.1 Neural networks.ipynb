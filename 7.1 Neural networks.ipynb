{
 "cells": [
  {
   "cell_type": "markdown",
   "metadata": {},
   "source": [
    "# Neural networks\n",
    "## Instructions:\n",
    "* Go through the notebook and complete the tasks.\n",
    "* Make sure you understand the examples given. If you need any help, refer to the documentation links provided or go to the Topic 7 discussion forum. \n",
    "* When a question allows a free-form answer (e.g. what do you observe?), create a new markdown cell below and answer the question in the notebook. \n",
    "* Save your notebooks when you are done.\n",
    "\n",
    "Before you start on the tasks below, go through the information in the following links:\n",
    "* <a href=\"http://scikit-learn.org/stable/modules/generated/sklearn.neural_network.MLPClassifier.html\">scikit-learn ‘Multilayer perceptron classifier’</a>\n",
    "* <a href=\"http://scikit-learn.org/stable/modules/neural_networks_supervised.html\">scikit-learn ‘Neural network models (supervised)’</a> \n",
    "\n",
    "**Task 1:**\n",
    "In the cell below, you can see code that implements a perceptron network (with a single node in the hidden layer). The data given to the network relates to the XOR problem: there are 2D inputs that can either be 0 or 1. We obtain a 1 answer only when the inputs are different, i.e. when one input is 0 and one is 1. Run and go through the code.\n"
   ]
  },
  {
   "cell_type": "code",
   "execution_count": 9,
   "metadata": {},
   "outputs": [
    {
     "data": {
      "text/plain": [
       "0.5"
      ]
     },
     "execution_count": 9,
     "metadata": {},
     "output_type": "execute_result"
    }
   ],
   "source": [
    "from sklearn.neural_network import MLPClassifier\n",
    "from sklearn.metrics import accuracy_score\n",
    "X=[ [0., 0.], [1., 1.], [0., 1.], [1.,0.]]*1000\n",
    "y=[0,0,1,1]*1000\n",
    "\n",
    "clf = MLPClassifier(solver='lbfgs', alpha=1e-5,hidden_layer_sizes=(1), random_state=1,activation='identity',max_iter=2000,  tol=1e-5,validation_fraction=0)\n",
    "                   \n",
    "clf.fit(X, y)\n",
    "ypred=clf.predict(X)\n",
    "accuracy_score(y, ypred)\n"
   ]
  },
  {
   "cell_type": "markdown",
   "metadata": {},
   "source": [
    "**Task 2:**\n",
    "What would you say regarding the performance of the network above? How would you justify the results?\n"
   ]
  },
  {
   "cell_type": "code",
   "execution_count": 4,
   "metadata": {},
   "outputs": [],
   "source": [
    "# write answer as comments here \n",
    "#\n",
    "#\n",
    "# "
   ]
  },
  {
   "cell_type": "markdown",
   "metadata": {},
   "source": [
    "**Task 3:**\n",
    "What would be the most minimal changes you could make in order to obtain 100% accuracy on this problem?\n"
   ]
  },
  {
   "cell_type": "code",
   "execution_count": 1,
   "metadata": {},
   "outputs": [],
   "source": [
    "# code here"
   ]
  },
  {
   "cell_type": "markdown",
   "metadata": {},
   "source": [
    "**Task 4:**\n",
    "The MNIST dataset is one of the most well-known datasets that is used for machine learning tasks. It contains a set of handwritten digit images with accompanying labels.\n",
    "In the cell below, you are given the code that loads the MNIST dataset and splits data into training and testing.\n",
    "Your task is to create a multilayer perceptron classifier that performs well on MNIST (you should expect a score over 95% on the test data). Do this by completing the code in the cell below, reporting the accuracy and confusion matrix on both testing and training data.\n"
   ]
  },
  {
   "cell_type": "code",
   "execution_count": 4,
   "metadata": {},
   "outputs": [],
   "source": [
    "import matplotlib.pyplot as plt\n",
    "from sklearn.datasets import fetch_openml\n",
    "\n",
    "mnist = fetch_openml('mnist_784') \n",
    "\n",
    "#  rescale between 0 and 1\n",
    "X, y = mnist.data / 255., mnist.target\n",
    "# train/ test split\n",
    "X_train, X_test = X[:60000], X[60000:]\n",
    "y_train, y_test = y[:60000], y[60000:]\n"
   ]
  },
  {
   "cell_type": "code",
   "execution_count": 2,
   "metadata": {},
   "outputs": [],
   "source": [
    "# code here"
   ]
  }
 ],
 "metadata": {
  "kernelspec": {
   "display_name": "Python 3",
   "language": "python",
   "name": "python3"
  },
  "language_info": {
   "codemirror_mode": {
    "name": "ipython",
    "version": 3
   },
   "file_extension": ".py",
   "mimetype": "text/x-python",
   "name": "python",
   "nbconvert_exporter": "python",
   "pygments_lexer": "ipython3",
   "version": "3.7.3"
  }
 },
 "nbformat": 4,
 "nbformat_minor": 2
}
