{
 "cells": [
  {
   "cell_type": "code",
   "execution_count": 8,
   "metadata": {},
   "outputs": [
    {
     "data": {
      "text/plain": [
       "'2.8.5'"
      ]
     },
     "execution_count": 8,
     "metadata": {},
     "output_type": "execute_result"
    }
   ],
   "source": [
    "import networkx as nx\n",
    "nx . __version__ # 2.8.5"
   ]
  },
  {
   "cell_type": "code",
   "execution_count": 13,
   "metadata": {},
   "outputs": [
    {
     "data": {
      "text/plain": [
       "[1, 4, 5]"
      ]
     },
     "execution_count": 13,
     "metadata": {},
     "output_type": "execute_result"
    }
   ],
   "source": [
    "G = nx.Graph() # create a graph\n",
    "G.add_nodes_from ([1 ,2 ,3 ,4 ,5]) # list of node IDs\n",
    "G.add_edges_from ([(1 ,2), (1 ,3),(1 ,5),(2 ,5),(3 ,4),(3 ,5)]) # list of edge tuples\n",
    "N = G.number_of_nodes() # number of nodes\n",
    "L = G.number_of_edges() # number of links\n",
    "list(G.edges(3)) # list of edges for node 3\n",
    "list(G.neighbors(3)) # list with neighbors of node 3\n"
   ]
  },
  {
   "cell_type": "code",
   "execution_count": 14,
   "metadata": {},
   "outputs": [
    {
     "data": {
      "text/plain": [
       "[4]"
      ]
     },
     "execution_count": 14,
     "metadata": {},
     "output_type": "execute_result"
    }
   ],
   "source": [
    "D = nx . DiGraph () # create a digraph\n",
    "D.add_edges_from ([(1 ,2),(1 ,3),(1 ,5),(2 ,5),(3 ,4),(5 ,3)]) # list of ( source , target ) tuples\n",
    "list(D.edges(3)) # edges with node 3 as source\n",
    "list(D.predecessors(3)) # incoming neighbors\n",
    "list(D.successors(3)) # outgoing neighbors"
   ]
  },
  {
   "cell_type": "code",
   "execution_count": 16,
   "metadata": {},
   "outputs": [
    {
     "name": "stdout",
     "output_type": "stream",
     "text": [
      "{1: [2, 3, 5], 2: [1, 5], 3: [1, 4, 5], 4: [3], 5: [1, 2, 3]}\n",
      "{1: {'inn': [], 'out': [2, 3, 5]}, 2: {'inn': [1], 'out': [5]}, 3: {'inn': [1, 5], 'out': [4]}, 5: {'inn': [1, 2], 'out': [3]}, 4: {'inn': [3], 'out': []}}\n"
     ]
    }
   ],
   "source": [
    "# Function to obtain a neighbors ’ dictionary\n",
    "def neighbors_dict(G):\n",
    "    if nx . is_directed(G):\n",
    "        return { n :{\n",
    "            'inn' : list(G.predecessors(n)) ,\n",
    "            'out' : list(G.successors (n))} for n in G.nodes}\n",
    "    else :\n",
    "        return { n : list(G.neighbors(n)) for n in G.nodes}\n",
    "\n",
    "    \n",
    "# we would call it as:\n",
    "G_neighbors = neighbors_dict(G)\n",
    "print (G_neighbors)\n",
    "\n",
    "D_neighbors = neighbors_dict(D)\n",
    "print (D_neighbors)"
   ]
  },
  {
   "cell_type": "markdown",
   "metadata": {},
   "source": [
    "Network representations\n",
    "(Menczer et al., 2020, sections 1.9, 1.10)\n",
    "# Alternative network representations:\n",
    "I Adjacency matrix:\n",
    "A = [aij ], where aij = 1 if there is a link from i to j;\n",
    "\n",
    "# Weighted networks:\n",
    "W = [wij ], where wij is the weight of the link from i to j;\n",
    "Undirected networks: A and W are symmetric, as every link\n",
    "from i to j also goes from j to i;\n",
    "Sparsity real networks: too many zeros, not efficient for storage.\n",
    "# Lists \n",
    "- Adjacency list: list of neighbors for each node.\n",
    "- Edge list: enumeration of links as pairs of connected nodes.\n",
    "- Graphical representation: network layout algorithm placing nodes on a plane and connecting them."
   ]
  }
 ],
 "metadata": {
  "kernelspec": {
   "display_name": "Python 3",
   "language": "python",
   "name": "python3"
  },
  "language_info": {
   "codemirror_mode": {
    "name": "ipython",
    "version": 3
   },
   "file_extension": ".py",
   "mimetype": "text/x-python",
   "name": "python",
   "nbconvert_exporter": "python",
   "pygments_lexer": "ipython3",
   "version": "3.8.5"
  }
 },
 "nbformat": 4,
 "nbformat_minor": 4
}
