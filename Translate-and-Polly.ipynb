{
 "cells": [
  {
   "cell_type": "markdown",
   "metadata": {},
   "source": [
    "## More Translate Python samples can be found here:\n",
    "https://docs.aws.amazon.com/code-samples/latest/catalog/code-catalog-python-example_code-translate.html"
   ]
  },
  {
   "cell_type": "code",
   "execution_count": null,
   "metadata": {},
   "outputs": [],
   "source": [
    "import boto3\n",
    "\n",
    "translate = boto3.client('translate')\n",
    "result = translate.translate_text(Text=\"Good morning\",\n",
    "                                  SourceLanguageCode=\"en\",\n",
    "                                  TargetLanguageCode=\"ar\")\n",
    "print(f'TranslatedText: {result[\"TranslatedText\"]}')\n",
    "print(f'SourceLanguageCode: {result[\"SourceLanguageCode\"]}')\n",
    "print(f'TargetLanguageCode: {result[\"TargetLanguageCode\"]}')"
   ]
  },
  {
   "cell_type": "markdown",
   "metadata": {},
   "source": [
    "## More Polly Python samples can be found here:\n",
    "https://docs.aws.amazon.com/code-samples/latest/catalog/code-catalog-python-example_code-polly.html"
   ]
  },
  {
   "cell_type": "code",
   "execution_count": null,
   "metadata": {},
   "outputs": [],
   "source": [
    "import boto3\n",
    "\n",
    "#polly_client = boto3.Session(\n",
    "#                aws_access_key_id=,                     \n",
    "#    aws_secret_access_key=,\n",
    "#    region_name='eu-west-2').client('polly')\n",
    "\n",
    "text = \"But it needs to be more nerves of excitement and expectation rather than nerves of not knowing what's going to happen. I was generally quite happy. I didn't miss anything easy. Matt played fantastic.\"\n",
    "polly_client = boto3.client(service_name='polly', region_name='eu-west-2')\n",
    "response = polly_client.synthesize_speech(VoiceId='Joanna',\n",
    "                OutputFormat='mp3', \n",
    "                Text = text)\n",
    "\n",
    "file = open('/Users/csstnns/Music/To MP3 Converter Free/speech.mp3', 'wb')\n",
    "file.write(response['AudioStream'].read())\n",
    "file.close()"
   ]
  },
  {
   "cell_type": "code",
   "execution_count": null,
   "metadata": {},
   "outputs": [],
   "source": []
  },
  {
   "cell_type": "code",
   "execution_count": null,
   "metadata": {},
   "outputs": [],
   "source": []
  }
 ],
 "metadata": {
  "kernelspec": {
   "display_name": "Python 3",
   "language": "python",
   "name": "python3"
  },
  "language_info": {
   "codemirror_mode": {
    "name": "ipython",
    "version": 3
   },
   "file_extension": ".py",
   "mimetype": "text/x-python",
   "name": "python",
   "nbconvert_exporter": "python",
   "pygments_lexer": "ipython3",
   "version": "3.7.6"
  }
 },
 "nbformat": 4,
 "nbformat_minor": 4
}
