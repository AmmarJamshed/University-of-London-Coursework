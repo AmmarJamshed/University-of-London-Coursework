{
 "cells": [
  {
   "cell_type": "markdown",
   "metadata": {},
   "source": [
    "## More Rekognition Python samples can be found here:\n",
    "https://docs.aws.amazon.com/code-samples/latest/catalog/code-catalog-python-example_code-rekognition.html"
   ]
  },
  {
   "cell_type": "code",
   "execution_count": null,
   "metadata": {},
   "outputs": [],
   "source": [
    "import boto3\n",
    "\n",
    "# Create a Rekognition client\n",
    "client=boto3.client('rekognition','us-east-1')"
   ]
  },
  {
   "cell_type": "code",
   "execution_count": null,
   "metadata": {},
   "outputs": [],
   "source": [
    "dir(client)"
   ]
  },
  {
   "cell_type": "code",
   "execution_count": null,
   "metadata": {},
   "outputs": [],
   "source": [
    "# remember to use your own bucket\n",
    "response = client.detect_faces(\n",
    "    Image={\n",
    "         'S3Object':{\n",
    "             'Bucket':'noureddin-test-bucket',\n",
    "             'Name':'realmadrid.png'\n",
    "          }\n",
    "     },\n",
    "    Attributes=['ALL']\n",
    ")"
   ]
  },
  {
   "cell_type": "code",
   "execution_count": null,
   "metadata": {},
   "outputs": [],
   "source": [
    "response"
   ]
  },
  {
   "cell_type": "code",
   "execution_count": null,
   "metadata": {},
   "outputs": [],
   "source": [
    "## local data\n",
    "with open(\"/Users/csstnns/Documents/nba.jpg\", 'rb') as image:\n",
    "    response = client.detect_faces(Image={\n",
    "        'Bytes': image.read()\n",
    "     },\n",
    "     Attributes=['ALL'])"
   ]
  },
  {
   "cell_type": "code",
   "execution_count": null,
   "metadata": {},
   "outputs": [],
   "source": [
    "## Emotions\n",
    "for faceDetail in response['FaceDetails']:\n",
    "    print('Emotions: \\t Confidence\\n')\n",
    "    for emotion in faceDetail['Emotions']:\n",
    "        print(str(emotion['Type']) + '\\t\\t' + str(emotion['Confidence']))"
   ]
  },
  {
   "cell_type": "code",
   "execution_count": null,
   "metadata": {},
   "outputs": [],
   "source": [
    "# Face Details\n",
    "for faceDetail in response['FaceDetails']:\n",
    "    print(faceDetail['Eyeglasses'])"
   ]
  },
  {
   "cell_type": "code",
   "execution_count": null,
   "metadata": {},
   "outputs": [],
   "source": [
    "## Celebrity Detection\n",
    "with open(\"/Users/csstnns/Documents/nba.jpg\", 'rb') as image:\n",
    "    response = client.recognize_celebrities(Image={\n",
    "        'Bytes': image.read()\n",
    "     })\n",
    "    print(response)"
   ]
  },
  {
   "cell_type": "code",
   "execution_count": null,
   "metadata": {},
   "outputs": [],
   "source": [
    "# Face comparison\n",
    "import boto3\n",
    "\n",
    "def compare_faces(sourceFile, targetFile):\n",
    "\n",
    "    client=boto3.client('rekognition', region_name='us-east-1')\n",
    "   \n",
    "    imageSource=open(sourceFile,'rb')\n",
    "    imageTarget=open(targetFile,'rb')\n",
    "\n",
    "    response=client.compare_faces(SimilarityThreshold=80,\n",
    "                                  SourceImage={'Bytes': imageSource.read()},\n",
    "                                  TargetImage={'Bytes': imageTarget.read()})\n",
    "    \n",
    "    for faceMatch in response['FaceMatches']:\n",
    "        position = faceMatch['Face']['BoundingBox']\n",
    "        similarity = str(faceMatch['Similarity'])\n",
    "        print('The face at ' +\n",
    "               str(position['Left']) + ' ' +\n",
    "               str(position['Top']) +\n",
    "               ' matches with ' + similarity + '% confidence')\n",
    "\n",
    "    imageSource.close()\n",
    "    imageTarget.close()     \n",
    "    return len(response['FaceMatches'])          \n",
    "\n",
    "def main():\n",
    "    source_file='/Users/csstnns/Downloads/noureddin1.jpg'\n",
    "    target_file='/Users/csstnns/Downloads/noureddin123.jpg'\n",
    "    face_matches=compare_faces(source_file, target_file)\n",
    "    print(\"Face matches: \" + str(face_matches))\n",
    "\n",
    "\n",
    "if __name__ == \"__main__\":\n",
    "    main()"
   ]
  },
  {
   "cell_type": "code",
   "execution_count": null,
   "metadata": {},
   "outputs": [],
   "source": []
  }
 ],
 "metadata": {
  "kernelspec": {
   "display_name": "Python 3",
   "language": "python",
   "name": "python3"
  },
  "language_info": {
   "codemirror_mode": {
    "name": "ipython",
    "version": 3
   },
   "file_extension": ".py",
   "mimetype": "text/x-python",
   "name": "python",
   "nbconvert_exporter": "python",
   "pygments_lexer": "ipython3",
   "version": "3.7.6"
  }
 },
 "nbformat": 4,
 "nbformat_minor": 4
}
