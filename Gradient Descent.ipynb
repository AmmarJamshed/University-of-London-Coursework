{
 "cells": [
  {
   "cell_type": "code",
   "execution_count": 1,
   "id": "clinical-structure",
   "metadata": {},
   "outputs": [],
   "source": [
    "import tensorflow as tf"
   ]
  },
  {
   "cell_type": "code",
   "execution_count": 2,
   "id": "fatty-anderson",
   "metadata": {},
   "outputs": [],
   "source": [
    "x = tf.Variable(3.0)"
   ]
  },
  {
   "cell_type": "code",
   "execution_count": 3,
   "id": "pending-philippines",
   "metadata": {},
   "outputs": [],
   "source": [
    "with tf.GradientTape() as tape:\n",
    "    f = x**2"
   ]
  },
  {
   "cell_type": "code",
   "execution_count": 4,
   "id": "metric-symphony",
   "metadata": {},
   "outputs": [
    {
     "name": "stdout",
     "output_type": "stream",
     "text": [
      "6.0\n"
     ]
    }
   ],
   "source": [
    "df_dx = tape.gradient(f,x)\n",
    "print(df_dx.numpy())"
   ]
  },
  {
   "cell_type": "code",
   "execution_count": 5,
   "id": "living-isaac",
   "metadata": {},
   "outputs": [
    {
     "name": "stdout",
     "output_type": "stream",
     "text": [
      "[[-3.]\n",
      " [ 3.]]\n"
     ]
    }
   ],
   "source": [
    "# Differentiate Tensorflow operations\n",
    "w = tf.Variable([[1.,-2.], [2.,1.]])\n",
    "b = tf.Variable([[0], [-1.]])\n",
    "x = tf.Variable([[1.], [2.]])\n",
    "\n",
    "y = w @ x + b\n",
    "\n",
    "print(y.numpy())"
   ]
  },
  {
   "cell_type": "code",
   "execution_count": 6,
   "id": "blessed-toilet",
   "metadata": {},
   "outputs": [
    {
     "name": "stdout",
     "output_type": "stream",
     "text": [
      "[[ -6. -12.]\n",
      " [  6.  12.]]\n"
     ]
    }
   ],
   "source": [
    "with tf.GradientTape(persistent=True) as tape:\n",
    "    y = w @ x + b\n",
    "    f = tf.reduce_sum(y**2)\n",
    "    \n",
    "[df_dw, df_db] = tape.gradient(f, [w, b])\n",
    "print(df_dw.numpy())"
   ]
  },
  {
   "cell_type": "code",
   "execution_count": null,
   "id": "adjustable-warrant",
   "metadata": {},
   "outputs": [],
   "source": []
  }
 ],
 "metadata": {
  "kernelspec": {
   "display_name": "Python 3",
   "language": "python",
   "name": "python3"
  },
  "language_info": {
   "codemirror_mode": {
    "name": "ipython",
    "version": 3
   },
   "file_extension": ".py",
   "mimetype": "text/x-python",
   "name": "python",
   "nbconvert_exporter": "python",
   "pygments_lexer": "ipython3",
   "version": "3.8.5"
  }
 },
 "nbformat": 4,
 "nbformat_minor": 5
}
