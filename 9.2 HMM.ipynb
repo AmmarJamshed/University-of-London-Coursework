{
 "cells": [
  {
   "cell_type": "markdown",
   "metadata": {},
   "source": [
    "# Hidden Markov Models (HMMs) in Pomegranate \n",
    "## Instructions:\n",
    "\n",
    "\n",
    "In case you haven't already installed pomegranate on your own machine, you can find out how to install it here: <a href=\"https://pomegranate.readthedocs.io/en/latest/install.html\">https://pomegranate.readthedocs.io/en/latest/install.html</a>\n",
    "\n",
    "* Go through the notebook and complete the tasks. \n",
    "* Make sure you understand the examples given. If you need help, refer to the Essential readings or the documentation link provided, or go to the Topic 9 discussion forum. \n",
    "* Save your notebooks when you are done.\n",
    " \n",
    "For information on pomegranate, you might want to refer to the official documentation:\n",
    "<a href=\"https://pomegranate.readthedocs.io\">https://pomegranate.readthedocs.io</a>\n",
    "The specific page related to building an HMM can be found here: <a href=\"https://pomegranate.readthedocs.io/en/latest/HiddenMarkovModel.html\">https://pomegranate.readthedocs.io/en/latest/HiddenMarkovModel.html</a>\n",
    "\n",
    "\n",
    "**Task**\n",
    "This lab gives you the chance to build a 3 state HMM to solve the activity recognition problem of detecting sitting, standing, or walking, using only a single observation (the y-axis accelerometer signals from a person's leg). \n",
    " "
   ]
  },
  {
   "cell_type": "markdown",
   "metadata": {},
   "source": [
    "### 1. Generate some artificial data sequences for sit, stand, and walk\n",
    " This first section of code simulates data from an accelerometer strapped to a person's upper leg. When the person stands still, the acc_y detects 1g of gravity. When the person sits, the accelerometer is horizontal and reads 0g. And when the person walks, a sine-like pattern can be measured as the accelerometer moves with their leg. \n",
    "\n",
    "Run the following code to generate (and save to .csv files) two sets of data: a training set, and a separate test set.   "
   ]
  },
  {
   "cell_type": "code",
   "execution_count": null,
   "metadata": {
    "scrolled": true
   },
   "outputs": [],
   "source": [
    "import numpy as np \n",
    "import pandas as pd\n",
    "import matplotlib.pyplot as plt\n",
    "\n",
    "def generate_sequence( activity_ground_truth, wnd_len = 10, noise_div=5 ):\n",
    "    out = []\n",
    "    labels = []\n",
    "    # generate some fake data that follows the state sequence activity_ground_truth\n",
    "    for act in activity_ground_truth:\n",
    "        noise = (np.random.ranf(wnd_len)-0.5)/noise_div\n",
    "        if act=='W': out.extend(np.sin(np.arange(0,wnd_len/2,.5))/2 + noise + 1) \n",
    "        if act=='-': out.extend(noise )\n",
    "        if act=='^': out.extend(noise + 1 )\n",
    "        labels.extend([act for _ in np.arange(0,wnd_len)])\n",
    "\n",
    "    assert(len(labels)==len(out))\n",
    "\n",
    "    index = pd.Series(np.round(np.arange(0,len(labels)/wnd_len,1/wnd_len),2),name='time') #pd.TimedeltaIndex(start='0',periods=len(labels),freq='s',name='time')\n",
    "    data = pd.DataFrame(data={'acc_y':out,'ground':labels},index=index)\n",
    "    \n",
    "    return data\n",
    "\n",
    "\n",
    "# Class labels:\n",
    "# - sit\n",
    "# ^ stand\n",
    "# W walk\n",
    "\n",
    "train_ground = np.array(list('---^^^----WWWWWWWWW^^^^^-----^WWWWW^--W^^^WW'))\n",
    "generate_sequence( train_ground, wnd_len = 10, noise_div=5 ).to_csv('sit_stand_walk.csv')\n",
    "\n",
    "test_ground = np.array(list('^^^^^^WWWW^^^-------WWWW--^^^^W^^'))\n",
    "generate_sequence( test_ground, wnd_len = 9, noise_div=2 ).to_csv('sit_stand_walk_test.csv')\n"
   ]
  },
  {
   "cell_type": "markdown",
   "metadata": {},
   "source": [
    "####  Load and plot the datasets\n",
    "You can now load the artificial dataset and plot the data by running the following cell:"
   ]
  },
  {
   "cell_type": "code",
   "execution_count": null,
   "metadata": {},
   "outputs": [],
   "source": [
    "fig = plt.figure(figsize=(15,3))\n",
    "axes = fig.subplots(1,2)\n",
    "\n",
    "train=pd.read_csv('sit_stand_walk.csv',index_col='time')\n",
    "train.plot(ax=axes[0], title='training data')\n",
    "test=pd.read_csv('sit_stand_walk_test.csv',index_col='time')\n",
    "test.plot(ax=axes[1], title='test data')\n",
    "\n",
    "classes = np.unique(train.ground)\n"
   ]
  },
  {
   "cell_type": "markdown",
   "metadata": {},
   "source": [
    "### 2. Build an HMM by hand using Pomegranate\n",
    "\n",
    "Use the pomegranate module to build a single HMM consisting of 3 states: sit, stand, and walk.\n",
    "Some skeleton code is provided below for you. Fill in the missing parts. \n",
    "\n",
    "**Hints**: Each of the 3 states should have a single observation distribition (you can use ``pm.NormalDistribution``). Then add initial transitions within states and between them, estimating the likely transtion probabilities. Remember to add an initial ``model.start`` state, from which you can link to all of the main 3 states. Finally, call the ``model.bake`` method to prepare your HMM for use. \n"
   ]
  },
  {
   "cell_type": "code",
   "execution_count": null,
   "metadata": {},
   "outputs": [],
   "source": [
    "import pomegranate as pm\n",
    "\n",
    "# Create an initial HMM with sit, stand, and walk the latent variables\n",
    "model = pm.HiddenMarkovModel()\n",
    "\n",
    "# Generate some Gaussian observation\n",
    "obs_sit = pm.NormalDistribution(0, 0.1) \n",
    "obs_stand = # your code here...\n",
    "obs_walk = # your code here...\n",
    "\n",
    "# Create the 3 states\n",
    "sit = pm.State(obs_sit, name='-')\n",
    "stand = pm.State(obs_stand, name='^')\n",
    "walk = pm.State(obs_walk, name='W')\n",
    "\n",
    "model.add_states(sit, stand, walk)\n",
    "model.add_transition(model.start, sit, .33)\n",
    "model.add_transition(model.start, stand, .33)\n",
    "model.add_transition(model.start, walk, .33)\n",
    "\n",
    "# Possible transition probabilities\n",
    "model.add_transition(sit, sit, 0.8)\n",
    "model.add_transition(sit, stand, 0.1)\n",
    "model.add_transition(sit, walk, 0.1)\n",
    "\n",
    "# ...your code for more transitions here...\n",
    "\n",
    "# Finally, once the model is set up you need to 'bake' it\n",
    "model.bake()\n",
    "\n"
   ]
  },
  {
   "cell_type": "code",
   "execution_count": null,
   "metadata": {},
   "outputs": [],
   "source": [
    "# You can look at the entire structure of the HMM by calling:\n",
    "print(model)\n"
   ]
  },
  {
   "cell_type": "code",
   "execution_count": null,
   "metadata": {},
   "outputs": [],
   "source": [
    "\n",
    "# Pomegranate's predict function returns the most likely state sequence using\n",
    "# the numbered indexes of each state. For this reason, it's useful to have a helper\n",
    "# function that lets us map between those indexes and our class labels\n",
    "def map_states_to_labels( state_seq, model ):\n",
    "    # This is a useful helper function to map between the pomegranate model's \n",
    "    # assigned state numbers (0,1,2) and our class labels ('-','W','^')\n",
    "    class_map = {}\n",
    "    for idx, state in enumerate(model.states):\n",
    "        class_map[idx] = state.name\n",
    "    return np.array([class_map[x] for x in state_seq])\n"
   ]
  },
  {
   "cell_type": "markdown",
   "metadata": {},
   "source": [
    "### 3. Predict the most likely state sequence given the training data\n",
    "\n",
    "First evaluate the state sequence prediction capabilities of your model on the training data. "
   ]
  },
  {
   "cell_type": "code",
   "execution_count": null,
   "metadata": {},
   "outputs": [],
   "source": [
    "pred_states = model.predict(train.acc_y)\n",
    "\n",
    "# convert the numeric prediction sequence to label format\n",
    "train['pred'] = map_states_to_labels( pred_states, model )\n",
    "\n",
    "# Calculate the confusion matrix, and class-relative precision and recall values\n",
    "import sklearn.metrics as metrics\n",
    "\n",
    "print('Traing set evaluation')\n",
    "print(classes)\n",
    "print(metrics.confusion_matrix(train.ground, train.pred, labels=classes))\n",
    "print(metrics.classification_report(train.ground, train.pred))"
   ]
  },
  {
   "cell_type": "markdown",
   "metadata": {},
   "source": [
    "### 4. Evaluate using the kept-aside test set\n",
    "Now run the evaluation using the test set to estimate its response to previously unseen data."
   ]
  },
  {
   "cell_type": "code",
   "execution_count": null,
   "metadata": {
    "scrolled": true
   },
   "outputs": [],
   "source": [
    "test['pred'] = # your code here...\n",
    "\n",
    "print('Test set evaluation')\n",
    "print(classes)\n",
    "print(metrics.confusion_matrix(test.ground, test.pred, labels=classes))\n",
    "print(metrics.classification_report(test.ground, test.pred))"
   ]
  },
  {
   "cell_type": "markdown",
   "metadata": {},
   "source": [
    "### 5. Train a new model using the data\n",
    "\n",
    "Let's copy our initial model (using ``model.copy()``) and properly train its parameters using the training dataset. Evaluate this updated model on both the training and testing set. How does this compare to your completely hand-crafted model?\n"
   ]
  },
  {
   "cell_type": "code",
   "execution_count": null,
   "metadata": {},
   "outputs": [],
   "source": [
    "m2 = model.copy()\n",
    "\n",
    "# re-train the model to fit the data more closely\n",
    "# m2.fit( # your code here...\n",
    "m2.bake()\n",
    "\n",
    "# your code here...\n",
    "\n",
    "\n",
    "print('Training set evaluation')\n",
    "\n",
    "# your code here...\n"
   ]
  },
  {
   "cell_type": "code",
   "execution_count": null,
   "metadata": {},
   "outputs": [],
   "source": [
    "# evaluate its performance on the test set\n",
    "\n",
    "# your code here...\n"
   ]
  },
  {
   "cell_type": "markdown",
   "metadata": {},
   "source": [
    "### 6. Discussion suggestion\n",
    "\n",
    "Does your hand-crafted model perform better or worse than the trained model (on the kept-aside test set)? Consider why might this be the case.\n",
    "\n",
    "\n",
    "----\n"
   ]
  },
  {
   "cell_type": "markdown",
   "metadata": {},
   "source": [
    "**Answer**  \n",
    "\n"
   ]
  },
  {
   "cell_type": "code",
   "execution_count": null,
   "metadata": {
    "scrolled": true
   },
   "outputs": [],
   "source": []
  },
  {
   "cell_type": "code",
   "execution_count": null,
   "metadata": {},
   "outputs": [],
   "source": []
  }
 ],
 "metadata": {
  "kernelspec": {
   "display_name": "Python 3",
   "language": "python",
   "name": "python3"
  },
  "language_info": {
   "codemirror_mode": {
    "name": "ipython",
    "version": 3
   },
   "file_extension": ".py",
   "mimetype": "text/x-python",
   "name": "python",
   "nbconvert_exporter": "python",
   "pygments_lexer": "ipython3",
   "version": "3.7.1"
  }
 },
 "nbformat": 4,
 "nbformat_minor": 2
}
