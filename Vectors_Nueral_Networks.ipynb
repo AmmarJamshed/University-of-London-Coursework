{
  "nbformat": 4,
  "nbformat_minor": 5,
  "metadata": {
    "kernelspec": {
      "display_name": "Python 3",
      "language": "python",
      "name": "python3"
    },
    "language_info": {
      "codemirror_mode": {
        "name": "ipython",
        "version": 3
      },
      "file_extension": ".py",
      "mimetype": "text/x-python",
      "name": "python",
      "nbconvert_exporter": "python",
      "pygments_lexer": "ipython3",
      "version": "3.8.5"
    },
    "colab": {
      "name": "Vectors- Nueral Networks.ipynb",
      "provenance": []
    }
  },
  "cells": [
    {
      "cell_type": "markdown",
      "metadata": {
        "id": "established-dining"
      },
      "source": [
        "# Vector features"
      ],
      "id": "established-dining"
    },
    {
      "cell_type": "code",
      "metadata": {
        "id": "economic-noise"
      },
      "source": [
        "x = [304,-2, 0, 57]"
      ],
      "id": "economic-noise",
      "execution_count": 10,
      "outputs": []
    },
    {
      "cell_type": "code",
      "metadata": {
        "id": "proud-climate",
        "outputId": "1d95efb9-8aec-47e4-f495-92a2f14053ef",
        "colab": {
          "base_uri": "https://localhost:8080/"
        }
      },
      "source": [
        "# Print vector length and the third element\n",
        "print('x:', x, '\\tlength:', len(x), '\\tx[2] =', x[2])"
      ],
      "id": "proud-climate",
      "execution_count": 11,
      "outputs": [
        {
          "output_type": "stream",
          "name": "stdout",
          "text": [
            "x: [304, -2, 0, 57] \tlength: 4 \tx[2] = 0\n"
          ]
        }
      ]
    },
    {
      "cell_type": "code",
      "metadata": {
        "id": "unexpected-china",
        "outputId": "9357d189-4c68-4925-ab82-911d6023c582",
        "colab": {
          "base_uri": "https://localhost:8080/"
        }
      },
      "source": [
        "import numpy as np\n",
        "x = np.array(93)\n",
        "print('x:', x, '/trank:', x.ndim)"
      ],
      "id": "unexpected-china",
      "execution_count": 12,
      "outputs": [
        {
          "output_type": "stream",
          "name": "stdout",
          "text": [
            "x: 93 /trank: 0\n"
          ]
        }
      ]
    },
    {
      "cell_type": "code",
      "metadata": {
        "id": "private-feedback",
        "outputId": "fc7b721e-1bbc-446b-af50-87881753e5af",
        "colab": {
          "base_uri": "https://localhost:8080/"
        }
      },
      "source": [
        "x = np.array([304,-2, 0, 57])\n",
        "print('x:', x, '/trank:', x.ndim)"
      ],
      "id": "private-feedback",
      "execution_count": 13,
      "outputs": [
        {
          "output_type": "stream",
          "name": "stdout",
          "text": [
            "x: [304  -2   0  57] /trank: 1\n"
          ]
        }
      ]
    },
    {
      "cell_type": "code",
      "metadata": {
        "id": "narrative-durham"
      },
      "source": [
        "# tensor with a single axis created"
      ],
      "id": "narrative-durham",
      "execution_count": 9,
      "outputs": []
    },
    {
      "cell_type": "code",
      "metadata": {
        "id": "focused-thing"
      },
      "source": [
        ""
      ],
      "id": "focused-thing",
      "execution_count": null,
      "outputs": []
    }
  ]
}