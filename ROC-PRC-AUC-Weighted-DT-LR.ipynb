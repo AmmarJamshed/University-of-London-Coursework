{
 "cells": [
  {
   "cell_type": "markdown",
   "metadata": {},
   "source": [
    "# Import Libraries and Load Data"
   ]
  },
  {
   "cell_type": "code",
   "execution_count": null,
   "metadata": {},
   "outputs": [],
   "source": [
    "import pandas as pd\n",
    "import numpy as np\n",
    "from collections import Counter\n",
    "from sklearn.metrics import roc_curve\n",
    "from sklearn.metrics import roc_auc_score\n",
    "from sklearn.metrics import precision_recall_curve\n",
    "from sklearn.metrics import auc\n",
    "\n",
    "import matplotlib.pyplot as plt\n",
    "\n",
    "from sklearn.datasets import make_classification, make_blobs\n",
    "\n",
    "from sklearn.model_selection import train_test_split\n",
    "from sklearn.linear_model import LogisticRegression\n",
    "from sklearn.tree import DecisionTreeClassifier\n",
    "\n",
    "from sklearn.metrics import accuracy_score\n",
    "from sklearn.metrics import precision_score\n",
    "from sklearn.metrics import recall_score\n",
    "from sklearn.metrics import f1_score"
   ]
  },
  {
   "cell_type": "code",
   "execution_count": null,
   "metadata": {},
   "outputs": [],
   "source": [
    "# import warnings filter\n",
    "from warnings import simplefilter\n",
    "# ignore all future warnings\n",
    "simplefilter(action='ignore', category=FutureWarning)"
   ]
  },
  {
   "cell_type": "code",
   "execution_count": null,
   "metadata": {},
   "outputs": [],
   "source": [
    "df = pd.read_csv(r'C:\\Users\\GAMING\\Downloads\\churn_preds.csv')"
   ]
  },
  {
   "cell_type": "code",
   "execution_count": null,
   "metadata": {},
   "outputs": [],
   "source": [
    "df.head()"
   ]
  },
  {
   "cell_type": "markdown",
   "metadata": {},
   "source": [
    "# ROC Curve and AUC"
   ]
  },
  {
   "cell_type": "code",
   "execution_count": null,
   "metadata": {},
   "outputs": [],
   "source": [
    "# keep probabilities for the positive outcome only\n",
    "probs = df['Predicted_Proba_Class1']\n",
    "# calculate ROC AUC score\n",
    "roc_auc = roc_auc_score(df['Actual'], probs)\n",
    "# summarize score\n",
    "print('ROC AUC of Model=%.2f' % (roc_auc))\n",
    "# calculate roc curves\n",
    "fpr, tpr, _ = roc_curve(df['Actual'], probs)\n",
    "# plot the roc curve for the model\n",
    "plt.plot(fpr, tpr, marker='.', label='Model')\n",
    "# axis labels\n",
    "plt.xlabel('False Positive Rate')\n",
    "plt.ylabel('True Positive Rate')\n",
    "# show the legend\n",
    "plt.legend()\n",
    "# show the plot\n",
    "plt.show()"
   ]
  },
  {
   "cell_type": "markdown",
   "metadata": {},
   "source": [
    "# PRC Curve and AUC"
   ]
  },
  {
   "cell_type": "code",
   "execution_count": null,
   "metadata": {},
   "outputs": [],
   "source": [
    "# keep probabilities for the positive outcome only\n",
    "probs = df['Predicted_Proba_Class1']\n",
    "precision, recall, _ = precision_recall_curve(df['Actual'], probs)\n",
    "#f1 = f1_score(testy, yhat)\n",
    "prc_auc  = auc(recall, precision)\n",
    "# summarize scores\n",
    "print('PRC AUC of Model=%.2f' % prc_auc)\n",
    "\n",
    "\n",
    "plt.plot(recall, precision, marker='.', label='Model')\n",
    "# axis labels\n",
    "plt.xlabel('Recall')\n",
    "plt.ylabel('Precision')\n",
    "# show the legend\n",
    "plt.legend()\n",
    "# show the plot\n",
    "plt.show()\n",
    "\n"
   ]
  },
  {
   "cell_type": "markdown",
   "metadata": {},
   "source": [
    "# Generate a Classification Dataset using SKLearn"
   ]
  },
  {
   "cell_type": "code",
   "execution_count": null,
   "metadata": {},
   "outputs": [],
   "source": [
    "# generate dataset\n",
    "#separable = False\n",
    "#while not separable:\n",
    "#    samples = make_classification(n_samples=1000, n_features=2, n_redundant=0, n_clusters_per_class=1,\n",
    "#                               weights=[0.99])\n",
    "#    class0 = samples[0][samples[1] == 0]\n",
    "#    class1 = samples[0][samples[1] == 1]\n",
    "#    separable = any([class0[:, k].max() < class1[:, k].min() or class0[:, k].min() > class1[:, k].max() for k in range(2)])\n",
    "\n",
    "    \n",
    "samples = make_classification(n_samples=1000, n_features=2, n_redundant=0, n_clusters_per_class=1,\n",
    "                               weights=[0.99])\n",
    "X = samples[0]\n",
    "y = samples[1]\n",
    "\n",
    "# scatter plot of examples by class label\n",
    "for label in np.unique(y):\n",
    "    row_ix = np.where(y == label)[0]\n",
    "    plt.scatter(X[row_ix, 0], X[row_ix, 1], label=str(label))\n",
    "plt.legend()\n",
    "plt.show()"
   ]
  },
  {
   "cell_type": "markdown",
   "metadata": {},
   "source": [
    "# Split Dataset into Train/Test Splits (Stratified Splits)"
   ]
  },
  {
   "cell_type": "code",
   "execution_count": null,
   "metadata": {},
   "outputs": [],
   "source": [
    "# split into train/test sets with same class ratio\n",
    "X_train, X_test, y_train, y_test = train_test_split(X, y, test_size=0.25, stratify=y)\n"
   ]
  },
  {
   "cell_type": "code",
   "execution_count": null,
   "metadata": {},
   "outputs": [],
   "source": [
    "# calculate heuristic class weighting\n",
    "from sklearn.utils.class_weight import compute_class_weight\n",
    "\n",
    "# calculate class weighting according to training data\n",
    "weighting = compute_class_weight('balanced', [0,1], y_train)\n",
    "print(weighting)\n",
    "\n",
    "\n",
    "weights = {0:weighting[0], 1:weighting[1]} "
   ]
  },
  {
   "cell_type": "markdown",
   "metadata": {},
   "source": [
    "# Train Decision Tree"
   ]
  },
  {
   "cell_type": "code",
   "execution_count": null,
   "metadata": {},
   "outputs": [],
   "source": [
    "# define model\n",
    "model = DecisionTreeClassifier(class_weight=None)\n",
    "# fit model\n",
    "model.fit(X_train, y_train)\n",
    "# predict on test set\n",
    "y_pred = model.predict(X_test)\n",
    "# evaluate predictions\n",
    "print('Accuracy: %.3f' % accuracy_score(y_test, y_pred))\n",
    "print('Precision: %.3f' % precision_score(y_test, y_pred))\n",
    "print('Recall: %.3f' % recall_score(y_test, y_pred))\n",
    "print('F-measure: %.3f' % f1_score(y_test, y_pred))"
   ]
  },
  {
   "cell_type": "markdown",
   "metadata": {},
   "source": [
    "# Train Logistic Regression"
   ]
  },
  {
   "cell_type": "code",
   "execution_count": null,
   "metadata": {},
   "outputs": [],
   "source": [
    "# define model\n",
    "model = LogisticRegression(solver='liblinear', class_weight=None)\n",
    "# fit model\n",
    "model.fit(X_train, y_train)\n",
    "# predict on test set\n",
    "y_pred = model.predict(X_test)\n",
    "# evaluate predictions\n",
    "print('Accuracy: %.3f' % accuracy_score(y_test, y_pred))\n",
    "print('Precision: %.3f' % precision_score(y_test, y_pred))\n",
    "print('Recall: %.3f' % recall_score(y_test, y_pred))\n",
    "print('F-measure: %.3f' % f1_score(y_test, y_pred))"
   ]
  },
  {
   "cell_type": "code",
   "execution_count": null,
   "metadata": {},
   "outputs": [],
   "source": []
  },
  {
   "cell_type": "code",
   "execution_count": null,
   "metadata": {},
   "outputs": [],
   "source": []
  }
 ],
 "metadata": {
  "kernelspec": {
   "display_name": "Python 3",
   "language": "python",
   "name": "python3"
  },
  "language_info": {
   "codemirror_mode": {
    "name": "ipython",
    "version": 3
   },
   "file_extension": ".py",
   "mimetype": "text/x-python",
   "name": "python",
   "nbconvert_exporter": "python",
   "pygments_lexer": "ipython3",
   "version": "3.8.5"
  }
 },
 "nbformat": 4,
 "nbformat_minor": 4
}
