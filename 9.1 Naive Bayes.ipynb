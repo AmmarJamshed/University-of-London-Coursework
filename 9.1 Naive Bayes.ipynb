{
 "cells": [
  {
   "cell_type": "markdown",
   "metadata": {},
   "source": [
    "# Naive Bayes\n",
    "## Instructions:\n",
    "* Go through the notebook and complete the tasks. \n",
    "* Make sure you understand the examples given. If you need help, refer to the Essential readings or the documentation link provided, or go to the Topic 9 discussion forum. \n",
    "* Save your notebooks when you are done.\n",
    " \n",
    "**Task 1:**\n",
    "Run the code below in order to understand how to use Naive Bayes classification under sklearn. Then follow the exercise at the bottom of the notebook."
   ]
  },
  {
   "cell_type": "code",
   "execution_count": 2,
   "metadata": {},
   "outputs": [
    {
     "name": "stdout",
     "output_type": "stream",
     "text": [
      "[0 1 2 2 2 0 0 0 1 2 1 0 1 1 1 0 1 1 0 1 0 2 0 1 2 2 2 2 0 0 2 2 1 1 0 1 1\n",
      " 1 2 1 0 2 1 0 2 1 0 1 1 1 0 1 1 0 1 0 2 1 2]\n"
     ]
    }
   ],
   "source": [
    "%matplotlib inline\n",
    "\n",
    "from sklearn import datasets, naive_bayes\n",
    "import numpy as np\n",
    "\n",
    "np.random.seed(1345)\n",
    "\n",
    "# Load the wine dataset (description here http://scikit-learn.org/stable/datasets/index.html#diabetes-dataset)\n",
    "wine = datasets.load_wine()\n",
    "data = wine.data.copy()\n",
    "target = wine.target.copy()\n",
    "\n",
    "# Split the data into training/testing sets\n",
    "total_samples = wine.target.shape[0]\n",
    "exclude = round(total_samples/3)\n",
    "indices = np.arange(0,total_samples)\n",
    "np.random.shuffle(indices)\n",
    "\n",
    "idx_train = indices[:-exclude]\n",
    "idx_test = indices[-exclude:]\n",
    "\n",
    "assert not np.intersect1d( idx_test, idx_train ).size\n",
    "\n",
    "X_train = data[idx_train]\n",
    "X_test = data[idx_test]\n",
    "\n",
    "# Split the targets into training/testing sets\n",
    "y_train = target[idx_train]\n",
    "y_test = target[idx_test]\n",
    "\n",
    "print(y_test)\n"
   ]
  },
  {
   "cell_type": "markdown",
   "metadata": {
    "collapsed": true
   },
   "source": [
    "### Naive Bayes with scikit-learn\n",
    "Go through the code below and then run the cell to perform Naive Bayes with scikit-learn"
   ]
  },
  {
   "cell_type": "code",
   "execution_count": 4,
   "metadata": {},
   "outputs": [
    {
     "data": {
      "image/png": "[encoded data removed]",
      "text/plain": [
       "<Figure size 432x288 with 1 Axes>"
      ]
     },
     "metadata": {
      "needs_background": "light"
     },
     "output_type": "display_data"
    },
    {
     "name": "stdout",
     "output_type": "stream",
     "text": [
      "[[16  2  0]\n",
      " [ 0 24  1]\n",
      " [ 0  0 16]]\n",
      "accuracy: 0.95\n",
      "class 0, precision: 1.00, recall: 0.89,  f-score: 0.94\n",
      "class 1, precision: 0.92, recall: 0.96,  f-score: 0.94\n",
      "class 2, precision: 0.94, recall: 1.00,  f-score: 0.97\n"
     ]
    }
   ],
   "source": [
    "import matplotlib.pyplot as plt\n",
    "import sklearn.metrics as metrics\n",
    "\n",
    "# create a naive Bayes model with Gaussian observations\n",
    "nb = naive_bayes.GaussianNB()\n",
    "# Train using training set\n",
    "nb.fit(X_train, y_train)\n",
    "\n",
    "# Predict using test set\n",
    "y_pred = nb.predict(X_test)\n",
    "\n",
    "# Plot outputs\n",
    "plt.plot(y_test-0.1,'g*')\n",
    "plt.plot(y_pred,'b.')\n",
    "plt.show()\n",
    "\n",
    "# evaluation\n",
    "print(metrics.confusion_matrix(y_test, y_pred))\n",
    "print(\"accuracy: %.2f\" % metrics.accuracy_score(y_test, y_pred))\n",
    "\n",
    "# calculate precision and recall (and f-score, a weighted average of precision and recall) \n",
    "precision,recall,fscore,_ = metrics.precision_recall_fscore_support(y_test,y_pred )\n",
    "for c in np.unique(y_test):\n",
    "        print(\"class %s, precision: %.2f, recall: %.2f,  f-score: %.2f\" % (c, precision[c], recall[c], fscore[c]))\n",
    "\n"
   ]
  },
  {
   "cell_type": "markdown",
   "metadata": {},
   "source": [
    "\n"
   ]
  },
  {
   "cell_type": "markdown",
   "metadata": {},
   "source": [
    "### Naive Bayes using objects\n",
    "\n",
    "Try running the following Naive Bayes binary classifier as an OO object. Have a look at how the class structure of myGaussianNB works. Refer to the python documentation on 'class'.\n"
   ]
  },
  {
   "cell_type": "code",
   "execution_count": 5,
   "metadata": {
    "scrolled": true
   },
   "outputs": [
    {
     "name": "stdout",
     "output_type": "stream",
     "text": [
      "[[40  1]\n",
      " [ 2 16]]\n",
      "accuracy: 0.95\n"
     ]
    }
   ],
   "source": [
    "class myGaussianNB:\n",
    "    def __init__(self):\n",
    "        # initialise the object\n",
    "        self.nb = naive_bayes.GaussianNB()\n",
    "        \n",
    "    def fit(self, X_train, y_train):\n",
    "        self.nb.fit(X_train, y_train)\n",
    "    \n",
    "    def predict(self, X_test):\n",
    "        return self.nb.predict(X_test)\n",
    "        \n",
    "# evaluate as a binary classifier (i.e. only consider class 0 vs. rest from the above)\n",
    "target_binary = np.zeros( target.shape )\n",
    "target_binary[target==0] = 1 \n",
    "y_train_bin = target_binary[idx_train]\n",
    "y_test_bin = target_binary[idx_test]\n",
    "\n",
    "myNB = myGaussianNB()\n",
    "\n",
    "myNB.fit(X_train, y_train_bin)\n",
    "y_pred_bin = myNB.predict(X_test)\n",
    "\n",
    "# now do the evaluation\n",
    "print(metrics.confusion_matrix(y_test_bin, y_pred_bin))\n",
    "print(\"accuracy: %.2f\" % metrics.accuracy_score(y_test, y_pred))\n",
    "\n"
   ]
  },
  {
   "cell_type": "markdown",
   "metadata": {},
   "source": [
    "**Task 2:**\n",
    "Now try to implement the above code for the myGaussianNB class, but instead of using sklearn's naive_bayes.GaussianNB(), fill in the gaps below to implement your own version using Bayes theorem. Your classifier should return the same results as above. \n",
    "\n"
   ]
  },
  {
   "cell_type": "code",
   "execution_count": 141,
   "metadata": {},
   "outputs": [
    {
     "name": "stdout",
     "output_type": "stream",
     "text": [
      "[[40  1]\n",
      " [ 2 16]]\n",
      "accuracy: 0.95\n"
     ]
    }
   ],
   "source": [
    "import math\n",
    "import scipy.stats as stats\n",
    "\n",
    "class myGaussianNB:\n",
    "    \n",
    "    def __init__(self):\n",
    "        # initialise the attributes of this class\n",
    "        # your code here\n",
    "                \n",
    "    def fit(self, X_train, y_train):\n",
    "        # your code here\n",
    "            \n",
    "    def predict(self, X_test):\n",
    "        # your code here\n",
    "        return predictions\n",
    "        \n",
    "    \n",
    "myNB = myGaussianNB()\n",
    "\n",
    "myNB.fit(X_train, y_train_bin)\n",
    "\n",
    "y_pred_bin = myNB.predict(X_test)\n",
    "\n",
    "# now do the evaluation\n",
    "print(metrics.confusion_matrix(y_test_bin, y_pred_bin))\n",
    "print(\"accuracy: %.2f\" % metrics.accuracy_score(y_test, y_pred))\n",
    "\n",
    "\n"
   ]
  },
  {
   "cell_type": "code",
   "execution_count": null,
   "metadata": {},
   "outputs": [],
   "source": []
  }
 ],
 "metadata": {
  "kernelspec": {
   "display_name": "Python 3",
   "language": "python",
   "name": "python3"
  },
  "language_info": {
   "codemirror_mode": {
    "name": "ipython",
    "version": 3
   },
   "file_extension": ".py",
   "mimetype": "text/x-python",
   "name": "python",
   "nbconvert_exporter": "python",
   "pygments_lexer": "ipython3",
   "version": "3.7.1"
  },
  "widgets": {
   "state": {},
   "version": "1.1.2"
  }
 },
 "nbformat": 4,
 "nbformat_minor": 2
}
