{
 "cells": [
  {
   "cell_type": "markdown",
   "id": "assigned-lancaster",
   "metadata": {},
   "source": [
    "# MNIST & KERAS"
   ]
  },
  {
   "cell_type": "code",
   "execution_count": 7,
   "id": "accurate-carbon",
   "metadata": {},
   "outputs": [],
   "source": [
    "from tensorflow.keras.datasets import mnist"
   ]
  },
  {
   "cell_type": "code",
   "execution_count": 8,
   "id": "lesbian-boards",
   "metadata": {},
   "outputs": [],
   "source": [
    "(train_images,train_labels), (test_images, test_labels) = mnist.load_data()"
   ]
  },
  {
   "cell_type": "code",
   "execution_count": 9,
   "id": "equal-costume",
   "metadata": {},
   "outputs": [
    {
     "name": "stdout",
     "output_type": "stream",
     "text": [
      "tensor shape\n",
      "\ttrain images shape: (60000, 28, 28)\n",
      "\ttrain labels shape: (60000,)\n",
      "\ttest images shape:\t (10000, 28, 28)\n",
      "\ttest labels shape:\t (10000,)\n"
     ]
    }
   ],
   "source": [
    "print('tensor shape')\n",
    "print('\\ttrain images shape:', train_images.shape)\n",
    "print('\\ttrain labels shape:', train_labels.shape)\n",
    "print('\\ttest images shape:\\t', test_images.shape)\n",
    "print('\\ttest labels shape:\\t', test_labels.shape)"
   ]
  },
  {
   "cell_type": "markdown",
   "id": "yellow-graham",
   "metadata": {},
   "source": [
    "# Preprocess data"
   ]
  },
  {
   "cell_type": "code",
   "execution_count": 11,
   "id": "other-qatar",
   "metadata": {},
   "outputs": [
    {
     "name": "stdout",
     "output_type": "stream",
     "text": [
      "sample:\n"
     ]
    },
    {
     "data": {
      "image/png": "[encoded data removed]",
      "text/plain": [
       "<Figure size 432x288 with 1 Axes>"
      ]
     },
     "metadata": {
      "needs_background": "light"
     },
     "output_type": "display_data"
    }
   ],
   "source": [
    "import matplotlib.pyplot as plt\n",
    "# Inspect the first image \n",
    "xmpl_image = test_images[0]\n",
    "xmpl_labels = test_labels[0]\n",
    "print('sample:')\n",
    "plt.imshow(xmpl_image, cmap=plt.cm.binary)\n",
    "plt.show()"
   ]
  },
  {
   "cell_type": "code",
   "execution_count": 13,
   "id": "experimental-northern",
   "metadata": {},
   "outputs": [],
   "source": [
    "# reshaping flattens 28 x 28 arrya into a vector of 784 elements\n",
    "train_images = train_images.reshape((60000, 28 * 28))\n",
    "test_images = test_images.reshape((10000, 28 * 28))\n",
    "# cast as floats and rescale from to [0,1]\n",
    "train_images = train_images.astype('float32') / 255\n",
    "test_images = test_images.astype('float32') / 255"
   ]
  },
  {
   "cell_type": "code",
   "execution_count": 14,
   "id": "roman-contact",
   "metadata": {},
   "outputs": [
    {
     "name": "stdout",
     "output_type": "stream",
     "text": [
      "'7'as one-hot vector:\t[0. 0. 0. 0. 0. 0. 0. 1. 0. 0.]\n"
     ]
    }
   ],
   "source": [
    "# As network expects categorically encoded variables, we encode with the convinenet categorical function\n",
    "from tensorflow.keras.utils import to_categorical\n",
    "orig_label = test_labels[0]\n",
    "train_labels = to_categorical(train_labels)\n",
    "test_labels = to_categorical(test_labels)\n",
    "\n",
    "# check encoding\n",
    "print('\\'', orig_label, '\\'', 'as one-hot vector:\\t', test_labels[0], sep='')"
   ]
  },
  {
   "cell_type": "code",
   "execution_count": null,
   "id": "indirect-ethnic",
   "metadata": {},
   "outputs": [],
   "source": []
  }
 ],
 "metadata": {
  "kernelspec": {
   "display_name": "Python 3",
   "language": "python",
   "name": "python3"
  },
  "language_info": {
   "codemirror_mode": {
    "name": "ipython",
    "version": 3
   },
   "file_extension": ".py",
   "mimetype": "text/x-python",
   "name": "python",
   "nbconvert_exporter": "python",
   "pygments_lexer": "ipython3",
   "version": "3.8.5"
  }
 },
 "nbformat": 4,
 "nbformat_minor": 5
}
