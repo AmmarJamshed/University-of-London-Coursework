{
 "cells": [
  {
   "cell_type": "markdown",
   "id": "established-dining",
   "metadata": {},
   "source": [
    "# Vector features"
   ]
  },
  {
   "cell_type": "code",
   "execution_count": 1,
   "id": "economic-noise",
   "metadata": {},
   "outputs": [],
   "source": [
    "x = [304,-2, 0, 57]"
   ]
  },
  {
   "cell_type": "code",
   "execution_count": 2,
   "id": "proud-climate",
   "metadata": {},
   "outputs": [
    {
     "name": "stdout",
     "output_type": "stream",
     "text": [
      "x: [304, -2, 0, 57] \tlength: 4 \tx[2] = 0\n"
     ]
    }
   ],
   "source": [
    "# Print vector length and the third element\n",
    "print('x:', x, '\\tlength:', len(x), '\\tx[2] =', x[2])"
   ]
  },
  {
   "cell_type": "code",
   "execution_count": 3,
   "id": "unexpected-china",
   "metadata": {},
   "outputs": [
    {
     "name": "stdout",
     "output_type": "stream",
     "text": [
      "x: 93 /trank: 0\n"
     ]
    }
   ],
   "source": [
    "import numpy as np\n",
    "x = np.array(93)\n",
    "print('x:', x, '/trank:', x.ndim)"
   ]
  },
  {
   "cell_type": "code",
   "execution_count": 5,
   "id": "private-feedback",
   "metadata": {},
   "outputs": [
    {
     "name": "stdout",
     "output_type": "stream",
     "text": [
      "x: [304  -2   0  57] /trank: 1\n"
     ]
    }
   ],
   "source": [
    "x = np.array([304,-2, 0, 57])\n",
    "print('x:', x, '/trank:', x.ndim)"
   ]
  },
  {
   "cell_type": "code",
   "execution_count": 6,
   "id": "narrative-durham",
   "metadata": {},
   "outputs": [],
   "source": [
    "# tensor with a single axis created"
   ]
  },
  {
   "cell_type": "code",
   "execution_count": null,
   "id": "focused-thing",
   "metadata": {},
   "outputs": [],
   "source": []
  }
 ],
 "metadata": {
  "kernelspec": {
   "display_name": "Python 3",
   "language": "python",
   "name": "python3"
  },
  "language_info": {
   "codemirror_mode": {
    "name": "ipython",
    "version": 3
   },
   "file_extension": ".py",
   "mimetype": "text/x-python",
   "name": "python",
   "nbconvert_exporter": "python",
   "pygments_lexer": "ipython3",
   "version": "3.8.5"
  }
 },
 "nbformat": 4,
 "nbformat_minor": 5
}
